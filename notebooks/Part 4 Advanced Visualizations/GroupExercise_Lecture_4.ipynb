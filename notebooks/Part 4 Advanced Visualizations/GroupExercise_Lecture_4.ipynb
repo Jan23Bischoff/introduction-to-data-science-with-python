{
  "nbformat": 4,
  "nbformat_minor": 0,
  "metadata": {
    "colab": {
      "provenance": []
    },
    "kernelspec": {
      "name": "python3",
      "display_name": "Python 3"
    }
  },
  "cells": [
    {
      "cell_type": "markdown",
      "metadata": {
        "id": "VQ7pfsRf7oZ5"
      },
      "source": [
        "## **Exercise 1**"
      ]
    },
    {
      "cell_type": "code",
      "metadata": {
        "id": "E9TGF7pW7qHK"
      },
      "source": [
        "# load functions and data\n",
        "from sklearn.neighbors import KNeighborsClassifier\n",
        "from sklearn.model_selection import train_test_split\n",
        "from sklearn.metrics import accuracy_score\n",
        "import seaborn as sns\n",
        "\n",
        "df = sns.load_dataset(\"penguins\")\n",
        "df.fillna(df.mean(),inplace=True)"
      ],
      "execution_count": null,
      "outputs": []
    },
    {
      "cell_type": "code",
      "metadata": {
        "id": "_s8uLUIg2QtJ"
      },
      "source": [
        "# 1.a create again a pairplot with hue on species\n"
      ],
      "execution_count": null,
      "outputs": []
    },
    {
      "cell_type": "code",
      "metadata": {
        "id": "RY8Ee7Nwdf7A"
      },
      "source": [
        "# 1.b create a correlation table by applying the .corr() method to a dataframe\n"
      ],
      "execution_count": null,
      "outputs": []
    },
    {
      "cell_type": "code",
      "metadata": {
        "id": "4KK1_3RsdpIB"
      },
      "source": [
        "# 1.c add the correlation table to seaborns heatmap function\n"
      ],
      "execution_count": null,
      "outputs": []
    },
    {
      "cell_type": "markdown",
      "metadata": {
        "id": "4XGbYjYu2hdH"
      },
      "source": [
        "## **Exercise 2**"
      ]
    },
    {
      "cell_type": "code",
      "metadata": {
        "colab": {
          "base_uri": "https://localhost:8080/",
          "height": 313
        },
        "id": "ZxKuswbn2j1M",
        "outputId": "4617195a-28e8-4762-86ba-4cf3c16eb4e3"
      },
      "source": [
        "# import libraries\n",
        "import pandas as pd\n",
        "import matplotlib.pyplot as plt\n",
        "\n",
        "# load data and store in variable df\n",
        "df = pd.read_csv('https://drive.google.com/uc?id=1Rzq2VqPVRM2kfMuh_jToJKzKUvBOC0vp')\n",
        "\n",
        "df.head()"
      ],
      "execution_count": null,
      "outputs": [
        {
          "output_type": "execute_result",
          "data": {
            "text/html": [
              "<div>\n",
              "<style scoped>\n",
              "    .dataframe tbody tr th:only-of-type {\n",
              "        vertical-align: middle;\n",
              "    }\n",
              "\n",
              "    .dataframe tbody tr th {\n",
              "        vertical-align: top;\n",
              "    }\n",
              "\n",
              "    .dataframe thead th {\n",
              "        text-align: right;\n",
              "    }\n",
              "</style>\n",
              "<table border=\"1\" class=\"dataframe\">\n",
              "  <thead>\n",
              "    <tr style=\"text-align: right;\">\n",
              "      <th></th>\n",
              "      <th>id</th>\n",
              "      <th>price</th>\n",
              "      <th>neighbourhood_group_cleansed</th>\n",
              "      <th>latitude</th>\n",
              "      <th>longitude</th>\n",
              "      <th>bathrooms</th>\n",
              "      <th>availability_30</th>\n",
              "      <th>beds</th>\n",
              "      <th>bedrooms</th>\n",
              "      <th>review_scores_value</th>\n",
              "      <th>bed_type</th>\n",
              "      <th>minimum_nights</th>\n",
              "      <th>maximum_nights</th>\n",
              "      <th>availability_365</th>\n",
              "      <th>property_type</th>\n",
              "      <th>is_business_travel_ready</th>\n",
              "      <th>cleaning_fee</th>\n",
              "      <th>room_type</th>\n",
              "      <th>square_feet</th>\n",
              "      <th>guests_included</th>\n",
              "    </tr>\n",
              "  </thead>\n",
              "  <tbody>\n",
              "    <tr>\n",
              "      <th>0</th>\n",
              "      <td>28684898</td>\n",
              "      <td>$50.00</td>\n",
              "      <td>Neukölln</td>\n",
              "      <td>52.473978</td>\n",
              "      <td>13.454423</td>\n",
              "      <td>1.0</td>\n",
              "      <td>18</td>\n",
              "      <td>2.0</td>\n",
              "      <td>2.0</td>\n",
              "      <td>9.0</td>\n",
              "      <td>Real Bed</td>\n",
              "      <td>1</td>\n",
              "      <td>13</td>\n",
              "      <td>73</td>\n",
              "      <td>Apartment</td>\n",
              "      <td>f</td>\n",
              "      <td>$0.00</td>\n",
              "      <td>Private room</td>\n",
              "      <td>NaN</td>\n",
              "      <td>1</td>\n",
              "    </tr>\n",
              "    <tr>\n",
              "      <th>1</th>\n",
              "      <td>22607348</td>\n",
              "      <td>$10.00</td>\n",
              "      <td>Treptow - Köpenick</td>\n",
              "      <td>52.468095</td>\n",
              "      <td>13.487103</td>\n",
              "      <td>1.0</td>\n",
              "      <td>0</td>\n",
              "      <td>1.0</td>\n",
              "      <td>1.0</td>\n",
              "      <td>9.0</td>\n",
              "      <td>Real Bed</td>\n",
              "      <td>30</td>\n",
              "      <td>1124</td>\n",
              "      <td>156</td>\n",
              "      <td>Apartment</td>\n",
              "      <td>f</td>\n",
              "      <td>NaN</td>\n",
              "      <td>Private room</td>\n",
              "      <td>NaN</td>\n",
              "      <td>1</td>\n",
              "    </tr>\n",
              "    <tr>\n",
              "      <th>2</th>\n",
              "      <td>21019199</td>\n",
              "      <td>$35.00</td>\n",
              "      <td>Neukölln</td>\n",
              "      <td>52.481810</td>\n",
              "      <td>13.437268</td>\n",
              "      <td>1.0</td>\n",
              "      <td>0</td>\n",
              "      <td>1.0</td>\n",
              "      <td>1.0</td>\n",
              "      <td>9.0</td>\n",
              "      <td>Real Bed</td>\n",
              "      <td>1</td>\n",
              "      <td>1125</td>\n",
              "      <td>0</td>\n",
              "      <td>Apartment</td>\n",
              "      <td>f</td>\n",
              "      <td>$15.00</td>\n",
              "      <td>Private room</td>\n",
              "      <td>NaN</td>\n",
              "      <td>1</td>\n",
              "    </tr>\n",
              "    <tr>\n",
              "      <th>3</th>\n",
              "      <td>21919556</td>\n",
              "      <td>$99.00</td>\n",
              "      <td>Pankow</td>\n",
              "      <td>52.537269</td>\n",
              "      <td>13.416036</td>\n",
              "      <td>2.0</td>\n",
              "      <td>0</td>\n",
              "      <td>2.0</td>\n",
              "      <td>2.0</td>\n",
              "      <td>NaN</td>\n",
              "      <td>Real Bed</td>\n",
              "      <td>14</td>\n",
              "      <td>41</td>\n",
              "      <td>35</td>\n",
              "      <td>Apartment</td>\n",
              "      <td>f</td>\n",
              "      <td>$50.00</td>\n",
              "      <td>Entire home/apt</td>\n",
              "      <td>NaN</td>\n",
              "      <td>1</td>\n",
              "    </tr>\n",
              "    <tr>\n",
              "      <th>4</th>\n",
              "      <td>4820648</td>\n",
              "      <td>$39.00</td>\n",
              "      <td>Friedrichshain-Kreuzberg</td>\n",
              "      <td>52.491483</td>\n",
              "      <td>13.387362</td>\n",
              "      <td>1.0</td>\n",
              "      <td>0</td>\n",
              "      <td>1.0</td>\n",
              "      <td>1.0</td>\n",
              "      <td>9.0</td>\n",
              "      <td>Real Bed</td>\n",
              "      <td>60</td>\n",
              "      <td>1125</td>\n",
              "      <td>289</td>\n",
              "      <td>Apartment</td>\n",
              "      <td>f</td>\n",
              "      <td>NaN</td>\n",
              "      <td>Entire home/apt</td>\n",
              "      <td>NaN</td>\n",
              "      <td>1</td>\n",
              "    </tr>\n",
              "  </tbody>\n",
              "</table>\n",
              "</div>"
            ],
            "text/plain": [
              "         id   price  ... square_feet  guests_included\n",
              "0  28684898  $50.00  ...         NaN                1\n",
              "1  22607348  $10.00  ...         NaN                1\n",
              "2  21019199  $35.00  ...         NaN                1\n",
              "3  21919556  $99.00  ...         NaN                1\n",
              "4   4820648  $39.00  ...         NaN                1\n",
              "\n",
              "[5 rows x 20 columns]"
            ]
          },
          "metadata": {},
          "execution_count": 2
        }
      ]
    },
    {
      "cell_type": "code",
      "metadata": {
        "id": "8kzF_hQb3h7c"
      },
      "source": [
        "# 2.a the price is currently stored as a string, for example: $1,000.00\n",
        "# we need to remove the dollar sign and the comma, afterwars we can transform the column to type float\n",
        "df['price'] =  # replace dollar sign\n",
        "df['price'] =  # replace comma\n",
        "df['price'] =  # transform to float"
      ],
      "execution_count": null,
      "outputs": []
    },
    {
      "cell_type": "code",
      "metadata": {
        "id": "OyO6l8OG5hoq"
      },
      "source": [
        "# 2.b the same can be done with the column cleaning_fee\n"
      ],
      "execution_count": null,
      "outputs": []
    },
    {
      "cell_type": "code",
      "metadata": {
        "colab": {
          "base_uri": "https://localhost:8080/"
        },
        "id": "kHGwVGNN3FPz",
        "outputId": "a9909b44-859d-49be-b778-1606d75d8204"
      },
      "source": [
        "# 2.c some columns have a lot of missing values.\n",
        "# try to understand how the following comand works.\n",
        "# try to execute df.isna() only, then df.isna().sum() ...\n",
        "\n",
        "df.isna().sum().sort_values(ascending=False)"
      ],
      "execution_count": null,
      "outputs": [
        {
          "output_type": "execute_result",
          "data": {
            "text/plain": [
              "square_feet                     13260\n",
              "cleaning_fee                     4272\n",
              "review_scores_value              2678\n",
              "beds                               29\n",
              "bathrooms                          23\n",
              "bedrooms                           11\n",
              "price                               0\n",
              "neighbourhood_group_cleansed        0\n",
              "latitude                            0\n",
              "longitude                           0\n",
              "availability_30                     0\n",
              "guests_included                     0\n",
              "bed_type                            0\n",
              "minimum_nights                      0\n",
              "maximum_nights                      0\n",
              "availability_365                    0\n",
              "property_type                       0\n",
              "is_business_travel_ready            0\n",
              "room_type                           0\n",
              "id                                  0\n",
              "dtype: int64"
            ]
          },
          "metadata": {
            "tags": []
          },
          "execution_count": 30
        }
      ]
    },
    {
      "cell_type": "code",
      "metadata": {
        "id": "16umS1Gg6Gqd"
      },
      "source": [
        "# 2.d fill ne missing values with the mean value, check with the above command that\n",
        "# no missing values are left\n"
      ],
      "execution_count": null,
      "outputs": []
    },
    {
      "cell_type": "code",
      "metadata": {
        "id": "_Mt0EsIB5Chi"
      },
      "source": [
        "# 2.d compute the corelations and look which features have a high corelation with price\n"
      ],
      "execution_count": null,
      "outputs": []
    },
    {
      "cell_type": "code",
      "metadata": {
        "id": "IBVgnFDp3Jbx"
      },
      "source": [
        "# load functions\n",
        "from sklearn.model_selection import train_test_split\n",
        "from sklearn.linear_model import LinearRegression\n",
        "from sklearn.metrics import mean_squared_error"
      ],
      "execution_count": null,
      "outputs": []
    },
    {
      "cell_type": "code",
      "metadata": {
        "id": "zVvjyuAm6WoG"
      },
      "source": [
        "# 2.e define a feature dataframe with 3 features and the target column price\n",
        "# create a train and test dataset\n"
      ],
      "execution_count": null,
      "outputs": []
    },
    {
      "cell_type": "code",
      "metadata": {
        "id": "FsiMg89F6dx8"
      },
      "source": [
        "# 2.f train a linear regression model\n",
        "\n"
      ],
      "execution_count": null,
      "outputs": []
    },
    {
      "cell_type": "code",
      "metadata": {
        "id": "UTM3PUHl6gd_"
      },
      "source": [
        "# 2.g test your model\n"
      ],
      "execution_count": null,
      "outputs": []
    },
    {
      "cell_type": "code",
      "metadata": {
        "id": "rCvF-WVv6v82"
      },
      "source": [
        "# 2.h include more features to your model and look how the root mean square error gets lower"
      ],
      "execution_count": null,
      "outputs": []
    }
  ]
}