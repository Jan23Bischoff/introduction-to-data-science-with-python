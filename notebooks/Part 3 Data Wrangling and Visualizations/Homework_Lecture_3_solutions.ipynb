{
  "nbformat": 4,
  "nbformat_minor": 0,
  "metadata": {
    "colab": {
      "provenance": []
    },
    "kernelspec": {
      "name": "python3",
      "display_name": "Python 3"
    },
    "language_info": {
      "name": "python"
    }
  },
  "cells": [
    {
      "cell_type": "markdown",
      "metadata": {
        "id": "jKQ5vT1mPqP_"
      },
      "source": [
        "# **Exercise 1**\n",
        "\n",
        "In the machine learning area the mean squared error (MSE) is a common metric to determine how good the predictions of a model are. The predictions of a model are compared to the true values, the closer the MSE gets to zero, the better is the model. The formular shows how this value is computed. Try to compute this value with two NumPy arrays.\n",
        "\n",
        "$MSE = \\frac{1}{n}\\sum_i^n (y_i - p_i)^2$"
      ]
    },
    {
      "cell_type": "code",
      "metadata": {
        "colab": {
          "base_uri": "https://localhost:8080/"
        },
        "id": "ra-S22mlOPDn",
        "outputId": "bba26b93-40e2-4881-9859-687b4aa3e478"
      },
      "source": [
        "# 1.a import numpy and transform both lists to numpy arrays and compute the MSE\n",
        "y = [1,2,3,4,5,6,7]\n",
        "p = [1,5,3,2,5,4,9]\n",
        "\n",
        "import numpy as np\n",
        "n = len(y)\n",
        "y = np.array(y)\n",
        "p = np.array(p)\n",
        "\n",
        "MSE = 1/n * np.sum((y-p)**2)\n",
        "MSE"
      ],
      "execution_count": null,
      "outputs": [
        {
          "output_type": "execute_result",
          "data": {
            "text/plain": [
              "3.0"
            ]
          },
          "metadata": {},
          "execution_count": 1
        }
      ]
    },
    {
      "cell_type": "code",
      "metadata": {
        "colab": {
          "base_uri": "https://localhost:8080/"
        },
        "id": "mx1EmRdzMtHU",
        "outputId": "59a31b4a-979f-426d-cd31-dde2e51c22cf"
      },
      "source": [
        "# the first idea was probably to use a for loop and to iterate over both arrays.\n",
        "# This is of course also possible, but NumPy makes it very easy to avoid for-loops\n",
        "# when we compute with arrays. Furthermore, the implementation above is even faster\n",
        "# then with a for-loop. For small arrays like in the example it doesn't make a difference\n",
        "# but if you work with large datasets, this will make a huge difference.\n",
        "# If we use a for loop our code looks also much more complicated...\n",
        "\n",
        "n = len(y)\n",
        "MSE = 0\n",
        "for index in range(n): # see explanation of range above\n",
        "  MSE += (y[index]-p[index])**2\n",
        "\n",
        "MSE"
      ],
      "execution_count": null,
      "outputs": [
        {
          "output_type": "execute_result",
          "data": {
            "text/plain": [
              "21"
            ]
          },
          "metadata": {},
          "execution_count": 6
        }
      ]
    },
    {
      "cell_type": "code",
      "metadata": {
        "colab": {
          "base_uri": "https://localhost:8080/"
        },
        "id": "Zw8gkVlkNUb_",
        "outputId": "042c90eb-ad7d-41d7-ff2e-23045711e951"
      },
      "source": [
        "# We can create the mean by dividing the MSE by n\n",
        "MSE = MSE/n\n",
        "MSE"
      ],
      "execution_count": null,
      "outputs": [
        {
          "output_type": "execute_result",
          "data": {
            "text/plain": [
              "3.0"
            ]
          },
          "metadata": {},
          "execution_count": 7
        }
      ]
    },
    {
      "cell_type": "markdown",
      "metadata": {
        "id": "EAGUZqlfG0mv"
      },
      "source": [
        "# **Exercise 2**\n",
        "\n",
        "In this first exercise we will have again a look at the dataset which contains listings from AirBnB appartments from Berlin. Execute the cell below to load the data and to print out the head of the dataframe\n"
      ]
    },
    {
      "cell_type": "code",
      "metadata": {
        "colab": {
          "base_uri": "https://localhost:8080/",
          "height": 305
        },
        "id": "zfz8zUvjycI6",
        "outputId": "8c4aebfe-ffb9-4a4c-c48f-ef16407435f5"
      },
      "source": [
        "# import libraries\n",
        "import pandas as pd\n",
        "import matplotlib.pyplot as plt\n",
        "\n",
        "# load data and store in variable df\n",
        "df = pd.read_csv('https://drive.google.com/uc?id=1Rzq2VqPVRM2kfMuh_jToJKzKUvBOC0vp')\n",
        "\n",
        "\n",
        "# some cleaning, we come to this topic in the next lecture\n",
        "df['price'] = df['price'].str.replace('$','').str.replace(',','').astype(float)\n",
        "df.head()"
      ],
      "execution_count": null,
      "outputs": [
        {
          "output_type": "execute_result",
          "data": {
            "text/html": [
              "<div>\n",
              "<style scoped>\n",
              "    .dataframe tbody tr th:only-of-type {\n",
              "        vertical-align: middle;\n",
              "    }\n",
              "\n",
              "    .dataframe tbody tr th {\n",
              "        vertical-align: top;\n",
              "    }\n",
              "\n",
              "    .dataframe thead th {\n",
              "        text-align: right;\n",
              "    }\n",
              "</style>\n",
              "<table border=\"1\" class=\"dataframe\">\n",
              "  <thead>\n",
              "    <tr style=\"text-align: right;\">\n",
              "      <th></th>\n",
              "      <th>id</th>\n",
              "      <th>price</th>\n",
              "      <th>neighbourhood_group_cleansed</th>\n",
              "      <th>latitude</th>\n",
              "      <th>longitude</th>\n",
              "      <th>bathrooms</th>\n",
              "      <th>availability_30</th>\n",
              "      <th>beds</th>\n",
              "      <th>bedrooms</th>\n",
              "      <th>review_scores_value</th>\n",
              "      <th>bed_type</th>\n",
              "      <th>minimum_nights</th>\n",
              "      <th>maximum_nights</th>\n",
              "      <th>availability_365</th>\n",
              "      <th>property_type</th>\n",
              "      <th>is_business_travel_ready</th>\n",
              "      <th>cleaning_fee</th>\n",
              "      <th>room_type</th>\n",
              "      <th>square_feet</th>\n",
              "      <th>guests_included</th>\n",
              "    </tr>\n",
              "  </thead>\n",
              "  <tbody>\n",
              "    <tr>\n",
              "      <th>0</th>\n",
              "      <td>28684898</td>\n",
              "      <td>50.0</td>\n",
              "      <td>Neukölln</td>\n",
              "      <td>52.473978</td>\n",
              "      <td>13.454423</td>\n",
              "      <td>1.0</td>\n",
              "      <td>18</td>\n",
              "      <td>2.0</td>\n",
              "      <td>2.0</td>\n",
              "      <td>9.0</td>\n",
              "      <td>Real Bed</td>\n",
              "      <td>1</td>\n",
              "      <td>13</td>\n",
              "      <td>73</td>\n",
              "      <td>Apartment</td>\n",
              "      <td>f</td>\n",
              "      <td>$0.00</td>\n",
              "      <td>Private room</td>\n",
              "      <td>NaN</td>\n",
              "      <td>1</td>\n",
              "    </tr>\n",
              "    <tr>\n",
              "      <th>1</th>\n",
              "      <td>22607348</td>\n",
              "      <td>10.0</td>\n",
              "      <td>Treptow - Köpenick</td>\n",
              "      <td>52.468095</td>\n",
              "      <td>13.487103</td>\n",
              "      <td>1.0</td>\n",
              "      <td>0</td>\n",
              "      <td>1.0</td>\n",
              "      <td>1.0</td>\n",
              "      <td>9.0</td>\n",
              "      <td>Real Bed</td>\n",
              "      <td>30</td>\n",
              "      <td>1124</td>\n",
              "      <td>156</td>\n",
              "      <td>Apartment</td>\n",
              "      <td>f</td>\n",
              "      <td>NaN</td>\n",
              "      <td>Private room</td>\n",
              "      <td>NaN</td>\n",
              "      <td>1</td>\n",
              "    </tr>\n",
              "    <tr>\n",
              "      <th>2</th>\n",
              "      <td>21019199</td>\n",
              "      <td>35.0</td>\n",
              "      <td>Neukölln</td>\n",
              "      <td>52.481810</td>\n",
              "      <td>13.437268</td>\n",
              "      <td>1.0</td>\n",
              "      <td>0</td>\n",
              "      <td>1.0</td>\n",
              "      <td>1.0</td>\n",
              "      <td>9.0</td>\n",
              "      <td>Real Bed</td>\n",
              "      <td>1</td>\n",
              "      <td>1125</td>\n",
              "      <td>0</td>\n",
              "      <td>Apartment</td>\n",
              "      <td>f</td>\n",
              "      <td>$15.00</td>\n",
              "      <td>Private room</td>\n",
              "      <td>NaN</td>\n",
              "      <td>1</td>\n",
              "    </tr>\n",
              "    <tr>\n",
              "      <th>3</th>\n",
              "      <td>21919556</td>\n",
              "      <td>99.0</td>\n",
              "      <td>Pankow</td>\n",
              "      <td>52.537269</td>\n",
              "      <td>13.416036</td>\n",
              "      <td>2.0</td>\n",
              "      <td>0</td>\n",
              "      <td>2.0</td>\n",
              "      <td>2.0</td>\n",
              "      <td>NaN</td>\n",
              "      <td>Real Bed</td>\n",
              "      <td>14</td>\n",
              "      <td>41</td>\n",
              "      <td>35</td>\n",
              "      <td>Apartment</td>\n",
              "      <td>f</td>\n",
              "      <td>$50.00</td>\n",
              "      <td>Entire home/apt</td>\n",
              "      <td>NaN</td>\n",
              "      <td>1</td>\n",
              "    </tr>\n",
              "    <tr>\n",
              "      <th>4</th>\n",
              "      <td>4820648</td>\n",
              "      <td>39.0</td>\n",
              "      <td>Friedrichshain-Kreuzberg</td>\n",
              "      <td>52.491483</td>\n",
              "      <td>13.387362</td>\n",
              "      <td>1.0</td>\n",
              "      <td>0</td>\n",
              "      <td>1.0</td>\n",
              "      <td>1.0</td>\n",
              "      <td>9.0</td>\n",
              "      <td>Real Bed</td>\n",
              "      <td>60</td>\n",
              "      <td>1125</td>\n",
              "      <td>289</td>\n",
              "      <td>Apartment</td>\n",
              "      <td>f</td>\n",
              "      <td>NaN</td>\n",
              "      <td>Entire home/apt</td>\n",
              "      <td>NaN</td>\n",
              "      <td>1</td>\n",
              "    </tr>\n",
              "  </tbody>\n",
              "</table>\n",
              "</div>"
            ],
            "text/plain": [
              "         id  price  ... square_feet  guests_included\n",
              "0  28684898   50.0  ...         NaN                1\n",
              "1  22607348   10.0  ...         NaN                1\n",
              "2  21019199   35.0  ...         NaN                1\n",
              "3  21919556   99.0  ...         NaN                1\n",
              "4   4820648   39.0  ...         NaN                1\n",
              "\n",
              "[5 rows x 20 columns]"
            ]
          },
          "metadata": {
            "tags": []
          },
          "execution_count": 8
        }
      ]
    },
    {
      "cell_type": "code",
      "metadata": {
        "id": "Jn1sT7ObEwNn"
      },
      "source": [
        "# 2.a the size of the apparments is given in square feet.\n",
        "# create a new column 'square_meters' which is computed from the column 'square_feet' divided by 10.764\n",
        "df['square_meters'] = df['square_feet']/10.764"
      ],
      "execution_count": null,
      "outputs": []
    },
    {
      "cell_type": "code",
      "metadata": {
        "colab": {
          "base_uri": "https://localhost:8080/",
          "height": 313
        },
        "id": "QcK05MOrFACg",
        "outputId": "a3e22469-bb23-4a3a-9d0b-41f06bc79be3"
      },
      "source": [
        "# 2.b create a histrogram which shows a distribution of the appartment sizes\n",
        "# add also a title and a x-label\n",
        "plt.hist(df['square_meters'], range=(0,200))\n",
        "plt.xlabel('square meter')\n",
        "plt.title('Distribution of Apartment sizes')"
      ],
      "execution_count": null,
      "outputs": [
        {
          "output_type": "execute_result",
          "data": {
            "text/plain": [
              "Text(0.5, 1.0, 'Distribution of Apartment sizes')"
            ]
          },
          "metadata": {
            "tags": []
          },
          "execution_count": 27
        },
        {
          "output_type": "display_data",
          "data": {
            "image/png": "[encoded data removed]",
            "text/plain": [
              "<Figure size 432x288 with 1 Axes>"
            ]
          },
          "metadata": {
            "tags": [],
            "needs_background": "light"
          }
        }
      ]
    },
    {
      "cell_type": "code",
      "metadata": {
        "colab": {
          "base_uri": "https://localhost:8080/"
        },
        "id": "XhsS0tSNCtkI",
        "outputId": "6039af58-b13c-4942-b4d2-6fba86724ad3"
      },
      "source": [
        "# 2.c count how many appartments are listed in each neigbhourdhood (column neighbourhood_group_cleansed)\n",
        "df['neighbourhood_group_cleansed'].value_counts()"
      ],
      "execution_count": null,
      "outputs": [
        {
          "output_type": "execute_result",
          "data": {
            "text/plain": [
              "Friedrichshain-Kreuzberg    3263\n",
              "Mitte                       2767\n",
              "Pankow                      2165\n",
              "Neukölln                    2094\n",
              "Charlottenburg-Wilm.         958\n",
              "Tempelhof - Schöneberg       930\n",
              "Lichtenberg                  403\n",
              "Treptow - Köpenick           372\n",
              "Steglitz - Zehlendorf        261\n",
              "Reinickendorf                149\n",
              "Marzahn - Hellersdorf         93\n",
              "Spandau                       76\n",
              "Name: neighbourhood_group_cleansed, dtype: int64"
            ]
          },
          "metadata": {
            "tags": []
          },
          "execution_count": 30
        }
      ]
    },
    {
      "cell_type": "code",
      "metadata": {
        "colab": {
          "base_uri": "https://localhost:8080/"
        },
        "id": "zZ1BcQQSC9Tm",
        "outputId": "04ab45c2-8883-46de-8760-54ca9ab23c73"
      },
      "source": [
        "# 2.d show the mean prices for each neigbourhood in descending order\n",
        "df.groupby(by='neighbourhood_group_cleansed').mean()['price'].sort_values(ascending=False)"
      ],
      "execution_count": null,
      "outputs": [
        {
          "output_type": "execute_result",
          "data": {
            "text/plain": [
              "neighbourhood_group_cleansed\n",
              "Charlottenburg-Wilm.        133.708768\n",
              "Tempelhof - Schöneberg      104.808602\n",
              "Mitte                        69.929888\n",
              "Pankow                       69.911778\n",
              "Lichtenberg                  63.652605\n",
              "Friedrichshain-Kreuzberg     62.231076\n",
              "Marzahn - Hellersdorf        58.806452\n",
              "Spandau                      56.434211\n",
              "Steglitz - Zehlendorf        54.854406\n",
              "Treptow - Köpenick           51.413978\n",
              "Reinickendorf                51.013423\n",
              "Neukölln                     46.969436\n",
              "Name: price, dtype: float64"
            ]
          },
          "metadata": {
            "tags": []
          },
          "execution_count": 26
        }
      ]
    },
    {
      "cell_type": "markdown",
      "metadata": {
        "id": "fiRqCzIxJDMS"
      },
      "source": [
        "# **Exercise 3**\n",
        "\n",
        "In this exercise we want to upload some data to Google colab and read it with pandas. If you have some own data, you can use this. Otherwhise you can download the AirBnB data to your local machine when you klick on [this link](https://drive.google.com/file/d/1uMjwGn5mEx2iI2NNvY2U_S3Pz2pey4cj/view?usp=sharing). When you look at the code above where we loaded the data by just passing a URL to the `pd.read_csv()` method. In general, our data is of course not accesible via such a link. Therefore we have to upload our data to Google Colab.\n",
        "\n",
        "\n",
        "\n",
        "1.   On the left side you can find a folder symbol, click on it.\n",
        "2.   In the menu you will find a button to upload data\n",
        "3.   Select your data from your local machine and open it\n",
        "4.   When the data is uploaded, the file should appear in the menu\n",
        "5.   Klick with a righ-click on your data and select \"Copy path\"/\"Pfad kopieren\"\n",
        "\n",
        "\n",
        "\n",
        "Now you can load your data with the pandas read_csv() method by passing the copied path as string to the method.\n",
        "Load the data and print out the head to check that everything worked.\n",
        "\n",
        "\n",
        "When you close the connection to Google colab the uploaded file will be deleted. So if you want to continue your analysis, you have to upload the file again the next time.\n",
        "\n"
      ]
    },
    {
      "cell_type": "code",
      "metadata": {
        "id": "P4q_A-nqJsii"
      },
      "source": [
        "data = pd.read_csv('/content/housing.csv')\n",
        "data.head()"
      ],
      "execution_count": null,
      "outputs": []
    }
  ]
}