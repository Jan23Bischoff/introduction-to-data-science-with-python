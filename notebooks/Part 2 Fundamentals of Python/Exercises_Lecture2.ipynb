{
  "nbformat": 4,
  "nbformat_minor": 0,
  "metadata": {
    "colab": {
      "provenance": []
    },
    "kernelspec": {
      "name": "python3",
      "display_name": "Python 3"
    },
    "language_info": {
      "name": "python"
    }
  },
  "cells": [
    {
      "cell_type": "markdown",
      "metadata": {
        "id": "QL3dZcdGYeKm"
      },
      "source": [
        "# **Exercise 1**\n",
        "\n",
        "\n",
        "\n"
      ]
    },
    {
      "cell_type": "code",
      "metadata": {
        "id": "yMg8aCa3pJhF"
      },
      "source": [
        "a = [1,3,4,5,21,5,6,6,2,6,7,8]"
      ],
      "execution_count": null,
      "outputs": []
    },
    {
      "cell_type": "code",
      "metadata": {
        "id": "5HJ3Dmcs1Ooe"
      },
      "source": [
        "# 1.a acces the first element\n"
      ],
      "execution_count": null,
      "outputs": []
    },
    {
      "cell_type": "code",
      "metadata": {
        "id": "B8Mw4vgV1_ff"
      },
      "source": [
        "# 1.b acces elements from index 4 to 10 with stepsize 3\n"
      ],
      "execution_count": null,
      "outputs": []
    },
    {
      "cell_type": "code",
      "metadata": {
        "id": "vJeeiPhh2Ty4",
        "colab": {
          "base_uri": "https://localhost:8080/",
          "height": 35
        },
        "outputId": "a3bd3d39-c360-48ba-9d6e-1a42ee9acb28"
      },
      "source": [
        "# 1.c same slicing techniques work for strings!\n",
        "# acces every second element from this string:\n",
        "\n",
        "s = 'haevlbldoe acfoeufrgsee'\n"
      ],
      "execution_count": null,
      "outputs": [
        {
          "output_type": "execute_result",
          "data": {
            "application/vnd.google.colaboratory.intrinsic+json": {
              "type": "string"
            },
            "text/plain": [
              "'hello course'"
            ]
          },
          "metadata": {},
          "execution_count": 5
        }
      ]
    },
    {
      "cell_type": "code",
      "metadata": {
        "id": "1RBFyQDH23o7"
      },
      "source": [
        "temperatures = {'Frankfurt':[10,11,14,13],\n",
        "           'Berlin': [10,9,8,10]}"
      ],
      "execution_count": null,
      "outputs": []
    },
    {
      "cell_type": "code",
      "metadata": {
        "id": "zDWBxK7-4W5e",
        "colab": {
          "base_uri": "https://localhost:8080/"
        },
        "outputId": "5cd5860d-ab0d-489a-abf3-89490c200c20"
      },
      "source": [
        "# 1.d access the list which contains the temperatures from Frankfurt\n"
      ],
      "execution_count": null,
      "outputs": [
        {
          "output_type": "execute_result",
          "data": {
            "text/plain": [
              "[10, 11, 14, 13]"
            ]
          },
          "metadata": {},
          "execution_count": 7
        }
      ]
    },
    {
      "cell_type": "code",
      "metadata": {
        "id": "V089Deek5Rtk",
        "colab": {
          "base_uri": "https://localhost:8080/"
        },
        "outputId": "eed6b7f1-97e8-43bc-98c7-6f7dc8df3c18"
      },
      "source": [
        "# 1.e acces again the list from frankfurt, but now only the first 2 days\n"
      ],
      "execution_count": null,
      "outputs": [
        {
          "output_type": "execute_result",
          "data": {
            "text/plain": [
              "[10, 11]"
            ]
          },
          "metadata": {},
          "execution_count": 8
        }
      ]
    },
    {
      "cell_type": "markdown",
      "metadata": {
        "id": "3xAJpPg3ZhAx"
      },
      "source": [
        "# **Exercise 2**\n"
      ]
    },
    {
      "cell_type": "code",
      "metadata": {
        "id": "VhhmnwZ7Mh_I"
      },
      "source": [
        "l = [0,1,2,3,4,5,6,7,8]"
      ],
      "execution_count": null,
      "outputs": []
    },
    {
      "cell_type": "code",
      "metadata": {
        "id": "z-D1DSZEZgDS",
        "colab": {
          "base_uri": "https://localhost:8080/"
        },
        "outputId": "4ebef9b1-4263-4169-988e-84fcd9ce00c4"
      },
      "source": [
        "# 2.a Iterate over the list with a for-loop and print out each element\n"
      ],
      "execution_count": null,
      "outputs": [
        {
          "output_type": "stream",
          "name": "stdout",
          "text": [
            "0\n",
            "1\n",
            "2\n",
            "3\n",
            "4\n",
            "5\n",
            "6\n",
            "7\n",
            "8\n"
          ]
        }
      ]
    },
    {
      "cell_type": "code",
      "metadata": {
        "id": "ekJeokPB5oTj",
        "colab": {
          "base_uri": "https://localhost:8080/"
        },
        "outputId": "3a296a84-801f-45ee-e7b6-63bf0cba38df"
      },
      "source": [
        "# 2.b Iterate again over the list, but include an if-condition: Only numbers smaller than 5 should be printed\n"
      ],
      "execution_count": null,
      "outputs": [
        {
          "output_type": "stream",
          "name": "stdout",
          "text": [
            "0\n",
            "1\n",
            "2\n",
            "3\n",
            "4\n"
          ]
        }
      ]
    },
    {
      "cell_type": "code",
      "metadata": {
        "id": "j2yPp6R3-IzU",
        "colab": {
          "base_uri": "https://localhost:8080/"
        },
        "outputId": "1c15d2dc-e38e-4579-9f25-c5026d1fe43b"
      },
      "source": [
        "# 2.c Iterate over this list and use a counter to count the numbers smaller than 5\n"
      ],
      "execution_count": null,
      "outputs": [
        {
          "output_type": "stream",
          "name": "stdout",
          "text": [
            "5\n"
          ]
        }
      ]
    },
    {
      "cell_type": "markdown",
      "metadata": {
        "id": "dTJuvYO4bCLc"
      },
      "source": [
        "# **Exercise 3**\n"
      ]
    },
    {
      "cell_type": "code",
      "metadata": {
        "id": "-G81RgSzaqXx"
      },
      "source": [
        "# 3.a Define a function which filters a list like in Exercise 2\n",
        "def my_filter(input_list):\n",
        "  # start with a counter with value 0\n",
        "\n",
        "\n",
        "  #iterate over the list stored in the variable input_list\n",
        "\n",
        "\n",
        "    # for each element in the list, check if this element is smaller then 5\n",
        "\n",
        "\n",
        "      # if True, increase counter by 1\n",
        "\n",
        "  return counter"
      ],
      "execution_count": null,
      "outputs": []
    },
    {
      "cell_type": "code",
      "metadata": {
        "id": "xoG-qLOSZphn",
        "colab": {
          "base_uri": "https://localhost:8080/"
        },
        "outputId": "dd65d7b3-02db-4c62-bbc9-798b92095c41"
      },
      "source": [
        "a_list = [0,1,2,3,4,5,6,7,8,9,10]\n",
        "my_filter(a_list)"
      ],
      "execution_count": null,
      "outputs": [
        {
          "output_type": "execute_result",
          "data": {
            "text/plain": [
              "5"
            ]
          },
          "metadata": {},
          "execution_count": 2
        }
      ]
    },
    {
      "cell_type": "code",
      "metadata": {
        "id": "vrsoO2dw6Dgv"
      },
      "source": [
        "# 3.b The function should take as parameters a list and a filter value: only numbers below this filter value should be counted\n",
        "\n",
        "def my_filter(input_list, filter):\n",
        "  # start with a counter with value 0\n",
        "\n",
        "  #iterate over the list stored in the variable input_list\n",
        "\n",
        "    # for each element in the list, check if this element is smaller then filter\n",
        "\n",
        "      # if True, increase counter by 1\n",
        "  return counter"
      ],
      "execution_count": null,
      "outputs": []
    }
  ]
}