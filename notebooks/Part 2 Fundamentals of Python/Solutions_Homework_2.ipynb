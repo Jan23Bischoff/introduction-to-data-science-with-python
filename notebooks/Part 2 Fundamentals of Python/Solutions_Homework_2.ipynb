{
  "nbformat": 4,
  "nbformat_minor": 0,
  "metadata": {
    "colab": {
      "provenance": []
    },
    "kernelspec": {
      "name": "python3",
      "display_name": "Python 3"
    },
    "language_info": {
      "name": "python"
    }
  },
  "cells": [
    {
      "cell_type": "markdown",
      "metadata": {
        "id": "rCN6zbj8_6Kx"
      },
      "source": [
        "# **Exercise 1**\n",
        "\n"
      ]
    },
    {
      "cell_type": "code",
      "metadata": {
        "id": "amPJEVSdBFwI",
        "colab": {
          "base_uri": "https://localhost:8080/"
        },
        "outputId": "57618663-b226-4b7e-f4e0-655a9b8933dc"
      },
      "source": [
        "# Try to print out each element seperately with a double for-loop\n",
        "ll = [[1,2,3],[4,5,6],[7,8,9]]\n",
        "\n",
        "for element in ll:\n",
        "  for number in element:\n",
        "    print(number)"
      ],
      "execution_count": null,
      "outputs": [
        {
          "output_type": "stream",
          "text": [
            "1\n",
            "2\n",
            "3\n",
            "4\n",
            "5\n",
            "6\n",
            "7\n",
            "8\n",
            "9\n"
          ],
          "name": "stdout"
        }
      ]
    },
    {
      "cell_type": "markdown",
      "metadata": {
        "id": "Igsp0V4MGk2U"
      },
      "source": [
        "# **Exercise 2**\n",
        "\n",
        "\n",
        "Strings have some methods which can be applied on them.\n",
        "Methods are quit similar to functions, except they are associated with an object/data type. In this case the following methods are associated with strings. To apply these methods, one uses the notation `object.method_name()`\n",
        "\n",
        "For example:\n",
        "```\n",
        "\n",
        "  s = 'this is a string'\n",
        "  s.upper() # 'THIS IS A STRING'\n",
        "\n",
        "```\n",
        "To overwrite the old string stored in variable s, we have to use\n",
        "```\n",
        "\n",
        "  s = 'this is a string'\n",
        "  s = s.upper() # 'THIS IS A STRING'\n",
        "\n",
        "```\n",
        "Try it out and try also the methods capitalize() and lower().\n",
        "\n",
        "\n"
      ]
    },
    {
      "cell_type": "code",
      "metadata": {
        "colab": {
          "base_uri": "https://localhost:8080/"
        },
        "id": "O80kd-uBGkYu",
        "outputId": "09f695fd-ee5a-46a2-b5e4-499dc45df881"
      },
      "source": [
        "# 2.a\n",
        "s = 'this is a string'\n",
        "print(s.upper())\n",
        "print(s.lower())\n",
        "print(s.capitalize())"
      ],
      "execution_count": null,
      "outputs": [
        {
          "output_type": "stream",
          "text": [
            "THIS IS A STRING\n",
            "this is a string\n",
            "This is a string\n"
          ],
          "name": "stdout"
        }
      ]
    },
    {
      "cell_type": "code",
      "metadata": {
        "id": "hoDa1sxuKWXV",
        "colab": {
          "base_uri": "https://localhost:8080/",
          "height": 35
        },
        "outputId": "1db6af52-cb89-4fc6-b6c0-37e9300a5dbf"
      },
      "source": [
        "# 2.b you can replace parts of a string with s.replace(old, new) where old is the old part\n",
        "# in the string and new with what it should be replaced\n",
        "# Try to replace a.M. with am Main\n",
        "s = 'Frankfurt a.M.'\n",
        "s.replace('a.M.', 'am Main')"
      ],
      "execution_count": null,
      "outputs": [
        {
          "output_type": "execute_result",
          "data": {
            "application/vnd.google.colaboratory.intrinsic+json": {
              "type": "string"
            },
            "text/plain": [
              "'Frankfurt am Main'"
            ]
          },
          "metadata": {
            "tags": []
          },
          "execution_count": 3
        }
      ]
    },
    {
      "cell_type": "markdown",
      "metadata": {
        "id": "RGLTRmsW_Ay8"
      },
      "source": [
        "# **Exercise 3 - palindrom**\n"
      ]
    },
    {
      "cell_type": "code",
      "metadata": {
        "id": "x_dGipUx89jQ"
      },
      "source": [
        "s = 'This is a string'"
      ],
      "execution_count": null,
      "outputs": []
    },
    {
      "cell_type": "code",
      "metadata": {
        "id": "BzG9i1d2_GbB",
        "colab": {
          "base_uri": "https://localhost:8080/",
          "height": 35
        },
        "outputId": "d4dae1b6-4e32-4c2c-a9ba-10549a5187d9"
      },
      "source": [
        "# 3.a try to reverse this string with a negative step size\n",
        "s[::-1]"
      ],
      "execution_count": null,
      "outputs": [
        {
          "output_type": "execute_result",
          "data": {
            "application/vnd.google.colaboratory.intrinsic+json": {
              "type": "string"
            },
            "text/plain": [
              "'gnirts a si sihT'"
            ]
          },
          "metadata": {
            "tags": []
          },
          "execution_count": 6
        }
      ]
    },
    {
      "cell_type": "code",
      "metadata": {
        "id": "tjGw84MW_IQb"
      },
      "source": [
        "# 3.b Write a function which checks if a string is a palindrom, which means\n",
        "# it is the same word if you reverse it. The function should return True if it is\n",
        "# a palindrom, otherwise it should return false.\n",
        "# You can use the negative step size from above and compare the reversed string\n",
        "# with the original string\n",
        "\n",
        "# examples for palindroms: anna, level, kayak, madam, lagerregal\n",
        "\n",
        "\n",
        "def is_palindrom(input_string):\n",
        "  if input_string == input_string[::-1]:\n",
        "    return True\n",
        "  else:\n",
        "    return False"
      ],
      "execution_count": null,
      "outputs": []
    },
    {
      "cell_type": "code",
      "metadata": {
        "id": "jRU5Wqek_Jt0",
        "colab": {
          "base_uri": "https://localhost:8080/"
        },
        "outputId": "026c5572-4684-427e-edac-d9c013a0b218"
      },
      "source": [
        "# Tests\n",
        "# if your implementation is correct, no error should be shown when you execute this cell\n",
        "is_palindrom(\"level\") == True\n",
        "is_palindrom(\"kayak\") == True\n",
        "is_palindrom(\"not_a_palindrom\") == False"
      ],
      "execution_count": null,
      "outputs": [
        {
          "output_type": "execute_result",
          "data": {
            "text/plain": [
              "True"
            ]
          },
          "metadata": {
            "tags": []
          },
          "execution_count": 8
        }
      ]
    },
    {
      "cell_type": "markdown",
      "metadata": {
        "id": "nJI9Q-JsMK27"
      },
      "source": [
        "# **Exercise 4**\n",
        "\n",
        "We can append values to a list by using the append method of lists:\n",
        "\n",
        "\n",
        "\n",
        "```\n",
        "a = [1,2,3]\n",
        "a.append(4)\n",
        "```\n",
        "\n"
      ]
    },
    {
      "cell_type": "code",
      "metadata": {
        "id": "GZKR0cI3MNh1"
      },
      "source": [
        "# 4.a Append a value to list a and print out a\n",
        "a = [1,2,3,4]\n",
        "a.append(5)"
      ],
      "execution_count": null,
      "outputs": []
    },
    {
      "cell_type": "code",
      "metadata": {
        "id": "HTLzNjULNZqn"
      },
      "source": [
        "# 4.b To Append entries to a dictionary, you can asign a value to a new key\n",
        "my_dict = {} # define empty dictionary\n",
        "my_dict['a'] = a\n",
        "\n",
        "# add another list under a different key name to the dictionary my_dict\n",
        "my_dict['b'] = [1,2,3,4]"
      ],
      "execution_count": null,
      "outputs": []
    },
    {
      "cell_type": "markdown",
      "metadata": {
        "id": "1w_OprKNVCvc"
      },
      "source": [
        "With the dictionary method `my_dict.keys()` we get a list of all keys in this dictionary"
      ]
    },
    {
      "cell_type": "code",
      "metadata": {
        "id": "Qf94F_XSNaNE",
        "colab": {
          "base_uri": "https://localhost:8080/"
        },
        "outputId": "ba28793b-0ced-4a34-c030-69df8cb5ee9a"
      },
      "source": [
        "# 4.c write a for loop and iterate over all keys of dictionary my_dict\n",
        "for element in my_dict.keys():\n",
        "  print(element)"
      ],
      "execution_count": null,
      "outputs": [
        {
          "output_type": "stream",
          "text": [
            "a\n",
            "b\n"
          ],
          "name": "stdout"
        }
      ]
    },
    {
      "cell_type": "markdown",
      "metadata": {
        "id": "pu-ldsyNV1GB"
      },
      "source": [
        "# **Exercise 5**\n",
        "\n",
        "We learned in the lecture about relational operators to compare values and that they return True or False variables.\n",
        "In Python there exist different other operators, for example the 'in' operator.\n",
        "\n",
        "The expression\n",
        "\n",
        "`'a' in ['a','b','c']`\n",
        "\n",
        "will return True, because the character 'a' is in the the list, whereas\n",
        "\n",
        "`'d' in ['a','b','c']` will return False\n",
        "\n",
        "You will need this in this exercise\n",
        "\n",
        "\n",
        "---\n",
        "A friend of yours asked you, if you could help out with some nucleic acid sequencing. Because you are now quite proficient with Python you said yes. She needs to know how often each letter in the string \"important_data\" appears.\n",
        "We want to use the data structure dictionary to count how often each letter appears. Follow the following steps:\n",
        "\n",
        "\n",
        "\n",
        "1.   Iterate with a for-loop over the string important_data\n",
        "2.   If the current letter in the loop is not in counter.keys(), create a new entry in the dictionary with the letter as key and a value 1\n",
        "3. If the current letter is in counter.keys(), increase the value by one\n",
        "\n"
      ]
    },
    {
      "cell_type": "code",
      "metadata": {
        "id": "dZekM6V_UVan"
      },
      "source": [
        "important_data = 'ATGCGCAATGCGATATACATGCGCAATGCGATATACATGCGCAATGCGATATAC'"
      ],
      "execution_count": null,
      "outputs": []
    },
    {
      "cell_type": "code",
      "source": [
        "important_data[0]\n",
        "important_data[0:10]\n",
        "\n",
        "counter['a'] = 1\n",
        "counter['b'] = 2\n",
        "\n",
        "counter.keys()"
      ],
      "metadata": {
        "id": "LhRuguA-CR72"
      },
      "execution_count": null,
      "outputs": []
    },
    {
      "cell_type": "code",
      "metadata": {
        "id": "j6E5xjg4WCPM"
      },
      "source": [
        "counter = {} # initialize empty dictionary\n",
        "\n",
        "for letter in important_data:\n",
        "  if letter in counter.keys():\n",
        "    counter[letter] = counter[letter] + 1\n",
        "  else:\n",
        "    counter[letter] = 1"
      ],
      "execution_count": null,
      "outputs": []
    },
    {
      "cell_type": "code",
      "metadata": {
        "id": "TR6yBLrTd-oN",
        "colab": {
          "base_uri": "https://localhost:8080/"
        },
        "outputId": "5744b5f9-f965-4794-f893-b6fee1214efc"
      },
      "source": [
        "counter"
      ],
      "execution_count": null,
      "outputs": [
        {
          "output_type": "execute_result",
          "data": {
            "text/plain": [
              "{'A': 18, 'C': 12, 'G': 12, 'T': 12}"
            ]
          },
          "metadata": {},
          "execution_count": 4
        }
      ]
    },
    {
      "cell_type": "code",
      "metadata": {
        "id": "0rplhC1BeAqb"
      },
      "source": [
        "def my_counter(data):\n",
        "  counter = {} # initialize empty dictionary\n",
        "\n",
        "  for letter in data:\n",
        "    if letter in counter.keys():\n",
        "      counter[letter] = counter[letter] + 1\n",
        "    else:\n",
        "      counter[letter] = 1\n",
        "\n",
        "  return counter"
      ],
      "execution_count": null,
      "outputs": []
    },
    {
      "cell_type": "code",
      "source": [
        "counts = my_counter(important_data)\n",
        "print(counts)"
      ],
      "metadata": {
        "colab": {
          "base_uri": "https://localhost:8080/"
        },
        "id": "NTsoujwUVJje",
        "outputId": "a17f6b73-5748-4295-ce94-0ee0b600be84"
      },
      "execution_count": null,
      "outputs": [
        {
          "output_type": "stream",
          "name": "stdout",
          "text": [
            "{'A': 18, 'T': 12, 'G': 12, 'C': 12}\n"
          ]
        }
      ]
    },
    {
      "cell_type": "code",
      "source": [
        "from collections import Counter"
      ],
      "metadata": {
        "id": "_dhzZeirCJGi"
      },
      "execution_count": null,
      "outputs": []
    },
    {
      "cell_type": "code",
      "source": [],
      "metadata": {
        "id": "ViwSt8ZpCMgU"
      },
      "execution_count": null,
      "outputs": []
    }
  ]
}