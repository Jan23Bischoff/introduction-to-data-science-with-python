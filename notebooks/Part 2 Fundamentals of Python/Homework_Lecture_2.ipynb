{
  "nbformat": 4,
  "nbformat_minor": 0,
  "metadata": {
    "colab": {
      "provenance": []
    },
    "kernelspec": {
      "name": "python3",
      "display_name": "Python 3"
    },
    "language_info": {
      "name": "python"
    }
  },
  "cells": [
    {
      "cell_type": "markdown",
      "metadata": {
        "id": "rCN6zbj8_6Kx"
      },
      "source": [
        "# **Exercise 1**\n",
        "\n"
      ]
    },
    {
      "cell_type": "code",
      "metadata": {
        "id": "amPJEVSdBFwI"
      },
      "source": [
        "# Try to print out each element seperately with a double for-loop\n",
        "ll = [[1,2,3],[4,5,6],[7,8,9]]"
      ],
      "execution_count": null,
      "outputs": []
    },
    {
      "cell_type": "markdown",
      "metadata": {
        "id": "Igsp0V4MGk2U"
      },
      "source": [
        "# **Exercise 2**\n",
        "\n",
        "\n",
        "Strings have some methods which can be applied on them.\n",
        "Methods are quit similar to functions, except they are associated with an object/data type. In this case the following methods are associated with strings - which means, they can only be applied to string objects. To apply these methods, one uses the notation `object.method_name()`\n",
        "\n",
        "For example to change all letters in a string to upper case:\n",
        "```\n",
        "\n",
        "  s = 'this is a string'\n",
        "  s.upper() # 'THIS IS A STRING'\n",
        "\n",
        "```\n",
        "To overwrite the old string stored in variable s, we have to use\n",
        "```\n",
        "\n",
        "  s = 'this is a string'\n",
        "  s = s.upper() # 'THIS IS A STRING'\n",
        "\n",
        "```\n",
        "Try it out and try also the methods capitalize() and lower().\n",
        "\n",
        "\n"
      ]
    },
    {
      "cell_type": "code",
      "metadata": {
        "colab": {
          "base_uri": "https://localhost:8080/",
          "height": 35
        },
        "id": "O80kd-uBGkYu",
        "outputId": "5e328e3f-4df6-4004-f8bb-be68f3a59db3"
      },
      "source": [
        "# 2.a\n",
        "s = 'this is a string'\n"
      ],
      "execution_count": null,
      "outputs": [
        {
          "output_type": "execute_result",
          "data": {
            "application/vnd.google.colaboratory.intrinsic+json": {
              "type": "string"
            },
            "text/plain": [
              "'this is a string'"
            ]
          },
          "metadata": {
            "tags": []
          },
          "execution_count": 11
        }
      ]
    },
    {
      "cell_type": "code",
      "metadata": {
        "id": "hoDa1sxuKWXV"
      },
      "source": [
        "# 2.b you can replace parts of a string with s.replace(old, new) where old is the old part\n",
        "# in the string and new with what it should be replaced\n",
        "# Try to replace a.M. with am Main\n",
        "s = 'Frankfurt a.M.'\n"
      ],
      "execution_count": null,
      "outputs": []
    },
    {
      "cell_type": "markdown",
      "metadata": {
        "id": "RGLTRmsW_Ay8"
      },
      "source": [
        "# **Exercise 3 - palindrom**\n"
      ]
    },
    {
      "cell_type": "code",
      "metadata": {
        "id": "x_dGipUx89jQ"
      },
      "source": [
        "s = 'This is a string'"
      ],
      "execution_count": null,
      "outputs": []
    },
    {
      "cell_type": "code",
      "metadata": {
        "id": "BzG9i1d2_GbB"
      },
      "source": [
        "# 3.a try to reverse this string with a negative step size\n"
      ],
      "execution_count": null,
      "outputs": []
    },
    {
      "cell_type": "code",
      "metadata": {
        "id": "tjGw84MW_IQb"
      },
      "source": [
        "# 3.b Write a function which checks if a string is a palindrom, which means\n",
        "# it is the same word if you reverse it. The function should return True if it is\n",
        "# a palindrom, otherwise it should return false.\n",
        "# You can use the negative step size from above and compare the reversed string\n",
        "# with the original string\n",
        "\n",
        "# examples for palindroms: anna, level, kayak, madam, lagerregal\n",
        "\n",
        "\n",
        "def is_palindrom(input_string):\n",
        "  # your code here\n",
        "  return"
      ],
      "execution_count": null,
      "outputs": []
    },
    {
      "cell_type": "code",
      "metadata": {
        "id": "jRU5Wqek_Jt0"
      },
      "source": [
        "# Tests\n",
        "# if your implementation is correct, no error should be shown when you execute this cell\n",
        "is_palindrom(\"level\") == True\n",
        "is_palindrom(\"kayak\") == True\n",
        "is_palindrom(\"not_a_palindrom\") == False"
      ],
      "execution_count": null,
      "outputs": []
    },
    {
      "cell_type": "markdown",
      "metadata": {
        "id": "nJI9Q-JsMK27"
      },
      "source": [
        "# **Exercise 4**\n",
        "\n",
        "We can append values to a list by using the append method of lists:\n",
        "\n",
        "\n",
        "\n",
        "```\n",
        "a = [1,2,3]\n",
        "a.append(4)\n",
        "```\n",
        "\n"
      ]
    },
    {
      "cell_type": "code",
      "metadata": {
        "id": "GZKR0cI3MNh1"
      },
      "source": [
        "# 4.a Append a value to list a and print out a\n",
        "a = [1,2,3,4]"
      ],
      "execution_count": null,
      "outputs": []
    },
    {
      "cell_type": "code",
      "metadata": {
        "id": "HTLzNjULNZqn"
      },
      "source": [
        "# 4.b To Append entries to a dictionary, you can asign a value to a new key\n",
        "my_dict = {} # define empty dictionary\n",
        "my_dict['a'] = a\n",
        "\n",
        "# add another list under a different key name to the dictionary my_dict\n"
      ],
      "execution_count": null,
      "outputs": []
    },
    {
      "cell_type": "markdown",
      "metadata": {
        "id": "1w_OprKNVCvc"
      },
      "source": [
        "With the dictionary method `my_dict.keys()` we get a list of all keys in this dictionary"
      ]
    },
    {
      "cell_type": "code",
      "metadata": {
        "id": "Qf94F_XSNaNE"
      },
      "source": [
        "# 4.c write a for loop and iterate over all keys of dictionary my_dict and print the key names\n"
      ],
      "execution_count": null,
      "outputs": []
    },
    {
      "cell_type": "markdown",
      "metadata": {
        "id": "pu-ldsyNV1GB"
      },
      "source": [
        "# **Exercise 5**\n",
        "\n",
        "We learned in the lecture about relational operators to compare values and that they return True or False variables.\n",
        "In Python there exist different other operators, for example the 'in' operator.\n",
        "\n",
        "The expression\n",
        "\n",
        "`'a' in ['a','b','c']`\n",
        "\n",
        "will return True, because the character 'a' is in the the list, whereas\n",
        "\n",
        "`'d' in ['a','b','c']` will return False\n",
        "\n",
        "You will need this in this exercise\n",
        "\n",
        "\n",
        "---\n",
        "A friend of yours asked you, if you could help out with some nucleic acid sequencing. Because you are now quite proficient with Python you said yes. She needs to know how often each letter in the string \"important_data\" appears.\n",
        "We want to use the data structure dictionary to count how often each letter appears. Follow the following steps:\n",
        "\n",
        "\n",
        "\n",
        "1.   Iterate with a for-loop over the string important_data\n",
        "2.   If the current letter in the loop is not in counter.keys(), create a new entry in the dictionary with the letter as key and a value 1\n",
        "3. If the current letter is in counter.keys(), increase the value by one\n",
        "\n"
      ]
    },
    {
      "cell_type": "code",
      "metadata": {
        "id": "dZekM6V_UVan"
      },
      "source": [
        "important_data = 'TGCGCAATGCGATATACATGCGCAATGCGATATACATGCGCAAATGCGATATAC'"
      ],
      "execution_count": null,
      "outputs": []
    },
    {
      "cell_type": "code",
      "metadata": {
        "id": "j6E5xjg4WCPM"
      },
      "source": [
        "\n",
        "\n",
        "counter = {} # initialize empty dictionary\n",
        "for letter in  important_data:\n",
        "  if letter in counter.keys():\n",
        "    counter[letter] = counter[letter] + 1\n",
        "  else:\n",
        "    counter[letter] = 1"
      ],
      "execution_count": null,
      "outputs": []
    },
    {
      "cell_type": "code",
      "source": [
        "def my_counter(data):\n",
        "  counter = {} # initialize empty dictionary\n",
        "  for letter in data:\n",
        "    if letter in counter.keys():\n",
        "      counter[letter] = counter[letter] + 1\n",
        "    else:\n",
        "      counter[letter] = 1\n",
        "  return counter\n"
      ],
      "metadata": {
        "id": "SYHYy_tjCCjT"
      },
      "execution_count": null,
      "outputs": []
    },
    {
      "cell_type": "code",
      "source": [
        "my_counter(important_data)"
      ],
      "metadata": {
        "id": "kmjPFf-0LnnC",
        "outputId": "50cc50b3-8528-4a95-f8ac-84e5fa4ede1c",
        "colab": {
          "base_uri": "https://localhost:8080/"
        }
      },
      "execution_count": null,
      "outputs": [
        {
          "output_type": "execute_result",
          "data": {
            "text/plain": [
              "{'A': 18, 'C': 12, 'G': 12, 'T': 12}"
            ]
          },
          "metadata": {},
          "execution_count": 28
        }
      ]
    }
  ]
}